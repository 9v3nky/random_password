{
 "cells": [
  {
   "cell_type": "code",
   "execution_count": 26,
   "id": "69cb7173",
   "metadata": {},
   "outputs": [
    {
     "name": "stdout",
     "output_type": "stream",
     "text": [
      "enter no of digits: -1mk\n",
      "please enter valid number\n"
     ]
    }
   ],
   "source": [
    "\n",
    "import secrets\n",
    "import string\n",
    "try:\n",
    "    Num_digits = int(input(\"enter no of digits: \"))\n",
    "    if(Num_digits > 0):\n",
    "        random_password = ''.join(secrets.choice(string.ascii_uppercase + string.digits+string.ascii_lowercase+string.punctuation)\n",
    "        for i in range(Num_digits))\n",
    "        print(random_password)\n",
    "    else:\n",
    "        print(\"please enter positive number\")\n",
    "except :\n",
    "    print(\"please enter valid number\")"
   ]
  },
  {
   "cell_type": "code",
   "execution_count": 21,
   "id": "bae5e1e8",
   "metadata": {},
   "outputs": [
    {
     "data": {
      "text/plain": [
       "str"
      ]
     },
     "execution_count": 21,
     "metadata": {},
     "output_type": "execute_result"
    }
   ],
   "source": []
  },
  {
   "cell_type": "code",
   "execution_count": null,
   "id": "ceb6bd52",
   "metadata": {},
   "outputs": [],
   "source": []
  }
 ],
 "metadata": {
  "kernelspec": {
   "display_name": "Python 3 (ipykernel)",
   "language": "python",
   "name": "python3"
  },
  "language_info": {
   "codemirror_mode": {
    "name": "ipython",
    "version": 3
   },
   "file_extension": ".py",
   "mimetype": "text/x-python",
   "name": "python",
   "nbconvert_exporter": "python",
   "pygments_lexer": "ipython3",
   "version": "3.8.10"
  }
 },
 "nbformat": 4,
 "nbformat_minor": 5
}
